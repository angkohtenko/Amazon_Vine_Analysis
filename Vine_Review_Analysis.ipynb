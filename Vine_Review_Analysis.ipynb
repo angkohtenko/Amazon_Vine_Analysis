{
 "metadata": {
  "language_info": {
   "codemirror_mode": {
    "name": "ipython",
    "version": 3
   },
   "file_extension": ".py",
   "mimetype": "text/x-python",
   "name": "python",
   "nbconvert_exporter": "python",
   "pygments_lexer": "ipython3",
   "version": "3.8.5"
  },
  "orig_nbformat": 2,
  "kernelspec": {
   "name": "python385jvsc74a57bd085b3de2f9c4b27b7f81223aebc4e0dabe2614ee35a829cfc678ed609ee8c0979",
   "display_name": "Python 3.8.5 64-bit ('PythonData': conda)"
  }
 },
 "nbformat": 4,
 "nbformat_minor": 2,
 "cells": [
  {
   "cell_type": "code",
   "execution_count": 110,
   "metadata": {},
   "outputs": [],
   "source": [
    "import pandas as pd"
   ]
  },
  {
   "cell_type": "code",
   "execution_count": 111,
   "metadata": {},
   "outputs": [
    {
     "output_type": "execute_result",
     "data": {
      "text/plain": [
       "        review_id  star_rating  helpful_votes  total_votes vine  \\\n",
       "0   R8EWA1OFT84NX            5              0            0    N   \n",
       "1  R2JWY4YRQD4FOP            5              0            0    N   \n",
       "2   RL5ESX231LZ0B            5              0            0    N   \n",
       "3   RRMS9ZWJ2KD08            5              0            0    N   \n",
       "4  R14I3ZG5E6S7YM            5              0            0    N   \n",
       "\n",
       "  verified_purchase  \n",
       "0                 Y  \n",
       "1                 N  \n",
       "2                 Y  \n",
       "3                 Y  \n",
       "4                 Y  "
      ],
      "text/html": "<div>\n<style scoped>\n    .dataframe tbody tr th:only-of-type {\n        vertical-align: middle;\n    }\n\n    .dataframe tbody tr th {\n        vertical-align: top;\n    }\n\n    .dataframe thead th {\n        text-align: right;\n    }\n</style>\n<table border=\"1\" class=\"dataframe\">\n  <thead>\n    <tr style=\"text-align: right;\">\n      <th></th>\n      <th>review_id</th>\n      <th>star_rating</th>\n      <th>helpful_votes</th>\n      <th>total_votes</th>\n      <th>vine</th>\n      <th>verified_purchase</th>\n    </tr>\n  </thead>\n  <tbody>\n    <tr>\n      <th>0</th>\n      <td>R8EWA1OFT84NX</td>\n      <td>5</td>\n      <td>0</td>\n      <td>0</td>\n      <td>N</td>\n      <td>Y</td>\n    </tr>\n    <tr>\n      <th>1</th>\n      <td>R2JWY4YRQD4FOP</td>\n      <td>5</td>\n      <td>0</td>\n      <td>0</td>\n      <td>N</td>\n      <td>N</td>\n    </tr>\n    <tr>\n      <th>2</th>\n      <td>RL5ESX231LZ0B</td>\n      <td>5</td>\n      <td>0</td>\n      <td>0</td>\n      <td>N</td>\n      <td>Y</td>\n    </tr>\n    <tr>\n      <th>3</th>\n      <td>RRMS9ZWJ2KD08</td>\n      <td>5</td>\n      <td>0</td>\n      <td>0</td>\n      <td>N</td>\n      <td>Y</td>\n    </tr>\n    <tr>\n      <th>4</th>\n      <td>R14I3ZG5E6S7YM</td>\n      <td>5</td>\n      <td>0</td>\n      <td>0</td>\n      <td>N</td>\n      <td>Y</td>\n    </tr>\n  </tbody>\n</table>\n</div>"
     },
     "metadata": {},
     "execution_count": 111
    }
   ],
   "source": [
    "file = \"vine_table.csv\"\n",
    "vine_df = pd.read_csv(file)\n",
    "vine_df.head()"
   ]
  },
  {
   "cell_type": "code",
   "execution_count": 112,
   "metadata": {},
   "outputs": [
    {
     "output_type": "execute_result",
     "data": {
      "text/plain": [
       "              review_id  star_rating  helpful_votes  total_votes vine  \\\n",
       "591       ROI00QN8IS49I            5             83           91    N   \n",
       "1122     R13C5INE1RTZP6            2             26           26    N   \n",
       "1311      RXVMMXCL67MZN            4            378          383    N   \n",
       "1837     R33JJQWAUYBKD3            5            270          280    N   \n",
       "1954     R3N0XV9267NOXV            5             41           47    Y   \n",
       "...                 ...          ...            ...          ...  ...   \n",
       "1752918   RYN307NME6KX0            5             22           22    N   \n",
       "1752919  R1TOGWW745RP5X            5            109          110    N   \n",
       "1752922   RWZESJ0UGDQDG            4             34           34    N   \n",
       "1752925   RTEMVUI94ORI0            5             19           20    N   \n",
       "1752929  R35M9WTWVWMLX9            5             27           27    N   \n",
       "\n",
       "        verified_purchase  \n",
       "591                     N  \n",
       "1122                    Y  \n",
       "1311                    Y  \n",
       "1837                    Y  \n",
       "1954                    N  \n",
       "...                   ...  \n",
       "1752918                 N  \n",
       "1752919                 N  \n",
       "1752922                 N  \n",
       "1752925                 N  \n",
       "1752929                 N  \n",
       "\n",
       "[27389 rows x 6 columns]"
      ],
      "text/html": "<div>\n<style scoped>\n    .dataframe tbody tr th:only-of-type {\n        vertical-align: middle;\n    }\n\n    .dataframe tbody tr th {\n        vertical-align: top;\n    }\n\n    .dataframe thead th {\n        text-align: right;\n    }\n</style>\n<table border=\"1\" class=\"dataframe\">\n  <thead>\n    <tr style=\"text-align: right;\">\n      <th></th>\n      <th>review_id</th>\n      <th>star_rating</th>\n      <th>helpful_votes</th>\n      <th>total_votes</th>\n      <th>vine</th>\n      <th>verified_purchase</th>\n    </tr>\n  </thead>\n  <tbody>\n    <tr>\n      <th>591</th>\n      <td>ROI00QN8IS49I</td>\n      <td>5</td>\n      <td>83</td>\n      <td>91</td>\n      <td>N</td>\n      <td>N</td>\n    </tr>\n    <tr>\n      <th>1122</th>\n      <td>R13C5INE1RTZP6</td>\n      <td>2</td>\n      <td>26</td>\n      <td>26</td>\n      <td>N</td>\n      <td>Y</td>\n    </tr>\n    <tr>\n      <th>1311</th>\n      <td>RXVMMXCL67MZN</td>\n      <td>4</td>\n      <td>378</td>\n      <td>383</td>\n      <td>N</td>\n      <td>Y</td>\n    </tr>\n    <tr>\n      <th>1837</th>\n      <td>R33JJQWAUYBKD3</td>\n      <td>5</td>\n      <td>270</td>\n      <td>280</td>\n      <td>N</td>\n      <td>Y</td>\n    </tr>\n    <tr>\n      <th>1954</th>\n      <td>R3N0XV9267NOXV</td>\n      <td>5</td>\n      <td>41</td>\n      <td>47</td>\n      <td>Y</td>\n      <td>N</td>\n    </tr>\n    <tr>\n      <th>...</th>\n      <td>...</td>\n      <td>...</td>\n      <td>...</td>\n      <td>...</td>\n      <td>...</td>\n      <td>...</td>\n    </tr>\n    <tr>\n      <th>1752918</th>\n      <td>RYN307NME6KX0</td>\n      <td>5</td>\n      <td>22</td>\n      <td>22</td>\n      <td>N</td>\n      <td>N</td>\n    </tr>\n    <tr>\n      <th>1752919</th>\n      <td>R1TOGWW745RP5X</td>\n      <td>5</td>\n      <td>109</td>\n      <td>110</td>\n      <td>N</td>\n      <td>N</td>\n    </tr>\n    <tr>\n      <th>1752922</th>\n      <td>RWZESJ0UGDQDG</td>\n      <td>4</td>\n      <td>34</td>\n      <td>34</td>\n      <td>N</td>\n      <td>N</td>\n    </tr>\n    <tr>\n      <th>1752925</th>\n      <td>RTEMVUI94ORI0</td>\n      <td>5</td>\n      <td>19</td>\n      <td>20</td>\n      <td>N</td>\n      <td>N</td>\n    </tr>\n    <tr>\n      <th>1752929</th>\n      <td>R35M9WTWVWMLX9</td>\n      <td>5</td>\n      <td>27</td>\n      <td>27</td>\n      <td>N</td>\n      <td>N</td>\n    </tr>\n  </tbody>\n</table>\n<p>27389 rows × 6 columns</p>\n</div>"
     },
     "metadata": {},
     "execution_count": 112
    }
   ],
   "source": [
    "# retrieve all the rows where the total_votes count is equal to or greater than 20\n",
    "total_votes_20 = vine_df.loc[vine_df[\"total_votes\"] >=20]\n",
    "total_votes_20"
   ]
  },
  {
   "cell_type": "code",
   "execution_count": 113,
   "metadata": {},
   "outputs": [
    {
     "output_type": "execute_result",
     "data": {
      "text/plain": [
       "              review_id  star_rating  helpful_votes  total_votes vine  \\\n",
       "591       ROI00QN8IS49I            5             83           91    N   \n",
       "1122     R13C5INE1RTZP6            2             26           26    N   \n",
       "1311      RXVMMXCL67MZN            4            378          383    N   \n",
       "1837     R33JJQWAUYBKD3            5            270          280    N   \n",
       "1954     R3N0XV9267NOXV            5             41           47    Y   \n",
       "...                 ...          ...            ...          ...  ...   \n",
       "1752918   RYN307NME6KX0            5             22           22    N   \n",
       "1752919  R1TOGWW745RP5X            5            109          110    N   \n",
       "1752922   RWZESJ0UGDQDG            4             34           34    N   \n",
       "1752925   RTEMVUI94ORI0            5             19           20    N   \n",
       "1752929  R35M9WTWVWMLX9            5             27           27    N   \n",
       "\n",
       "        verified_purchase  \n",
       "591                     N  \n",
       "1122                    Y  \n",
       "1311                    Y  \n",
       "1837                    Y  \n",
       "1954                    N  \n",
       "...                   ...  \n",
       "1752918                 N  \n",
       "1752919                 N  \n",
       "1752922                 N  \n",
       "1752925                 N  \n",
       "1752929                 N  \n",
       "\n",
       "[25557 rows x 6 columns]"
      ],
      "text/html": "<div>\n<style scoped>\n    .dataframe tbody tr th:only-of-type {\n        vertical-align: middle;\n    }\n\n    .dataframe tbody tr th {\n        vertical-align: top;\n    }\n\n    .dataframe thead th {\n        text-align: right;\n    }\n</style>\n<table border=\"1\" class=\"dataframe\">\n  <thead>\n    <tr style=\"text-align: right;\">\n      <th></th>\n      <th>review_id</th>\n      <th>star_rating</th>\n      <th>helpful_votes</th>\n      <th>total_votes</th>\n      <th>vine</th>\n      <th>verified_purchase</th>\n    </tr>\n  </thead>\n  <tbody>\n    <tr>\n      <th>591</th>\n      <td>ROI00QN8IS49I</td>\n      <td>5</td>\n      <td>83</td>\n      <td>91</td>\n      <td>N</td>\n      <td>N</td>\n    </tr>\n    <tr>\n      <th>1122</th>\n      <td>R13C5INE1RTZP6</td>\n      <td>2</td>\n      <td>26</td>\n      <td>26</td>\n      <td>N</td>\n      <td>Y</td>\n    </tr>\n    <tr>\n      <th>1311</th>\n      <td>RXVMMXCL67MZN</td>\n      <td>4</td>\n      <td>378</td>\n      <td>383</td>\n      <td>N</td>\n      <td>Y</td>\n    </tr>\n    <tr>\n      <th>1837</th>\n      <td>R33JJQWAUYBKD3</td>\n      <td>5</td>\n      <td>270</td>\n      <td>280</td>\n      <td>N</td>\n      <td>Y</td>\n    </tr>\n    <tr>\n      <th>1954</th>\n      <td>R3N0XV9267NOXV</td>\n      <td>5</td>\n      <td>41</td>\n      <td>47</td>\n      <td>Y</td>\n      <td>N</td>\n    </tr>\n    <tr>\n      <th>...</th>\n      <td>...</td>\n      <td>...</td>\n      <td>...</td>\n      <td>...</td>\n      <td>...</td>\n      <td>...</td>\n    </tr>\n    <tr>\n      <th>1752918</th>\n      <td>RYN307NME6KX0</td>\n      <td>5</td>\n      <td>22</td>\n      <td>22</td>\n      <td>N</td>\n      <td>N</td>\n    </tr>\n    <tr>\n      <th>1752919</th>\n      <td>R1TOGWW745RP5X</td>\n      <td>5</td>\n      <td>109</td>\n      <td>110</td>\n      <td>N</td>\n      <td>N</td>\n    </tr>\n    <tr>\n      <th>1752922</th>\n      <td>RWZESJ0UGDQDG</td>\n      <td>4</td>\n      <td>34</td>\n      <td>34</td>\n      <td>N</td>\n      <td>N</td>\n    </tr>\n    <tr>\n      <th>1752925</th>\n      <td>RTEMVUI94ORI0</td>\n      <td>5</td>\n      <td>19</td>\n      <td>20</td>\n      <td>N</td>\n      <td>N</td>\n    </tr>\n    <tr>\n      <th>1752929</th>\n      <td>R35M9WTWVWMLX9</td>\n      <td>5</td>\n      <td>27</td>\n      <td>27</td>\n      <td>N</td>\n      <td>N</td>\n    </tr>\n  </tbody>\n</table>\n<p>25557 rows × 6 columns</p>\n</div>"
     },
     "metadata": {},
     "execution_count": 113
    }
   ],
   "source": [
    "# retrieve all the rows where the number of helpful_votes divided by total_votes is equal to or greater than 50%.\n",
    "helpful_votes = total_votes_20.loc[total_votes_20['helpful_votes']/total_votes_20['total_votes'] >= 0.5]\n",
    "helpful_votes"
   ]
  },
  {
   "cell_type": "code",
   "execution_count": 114,
   "metadata": {},
   "outputs": [
    {
     "output_type": "execute_result",
     "data": {
      "text/plain": [
       "              review_id  star_rating  helpful_votes  total_votes vine  \\\n",
       "1954     R3N0XV9267NOXV            5             41           47    Y   \n",
       "5736      RSA6JQ346JZHZ            5             55           64    Y   \n",
       "7385     R1FXF4HRMCLG4C            5             69           84    Y   \n",
       "7883      RCTBWC3II42MG            4            113          117    Y   \n",
       "24464     RTMQM2CQ1XIZ0            5             21           25    Y   \n",
       "...                 ...          ...            ...          ...  ...   \n",
       "1636787   RFFBMMET74TBB            5             27           30    Y   \n",
       "1637905  R19G60JWE86BRS            3             31           35    Y   \n",
       "1638433  R36L3YS2VNQUAB            4            163          175    Y   \n",
       "1639054  R1PSNB760HL99L            3            205          216    Y   \n",
       "1640162  R2W7EXQ1IVMI4D            4             46           54    Y   \n",
       "\n",
       "        verified_purchase  \n",
       "1954                    N  \n",
       "5736                    Y  \n",
       "7385                    N  \n",
       "7883                    N  \n",
       "24464                   N  \n",
       "...                   ...  \n",
       "1636787                 N  \n",
       "1637905                 N  \n",
       "1638433                 N  \n",
       "1639054                 N  \n",
       "1640162                 N  \n",
       "\n",
       "[463 rows x 6 columns]"
      ],
      "text/html": "<div>\n<style scoped>\n    .dataframe tbody tr th:only-of-type {\n        vertical-align: middle;\n    }\n\n    .dataframe tbody tr th {\n        vertical-align: top;\n    }\n\n    .dataframe thead th {\n        text-align: right;\n    }\n</style>\n<table border=\"1\" class=\"dataframe\">\n  <thead>\n    <tr style=\"text-align: right;\">\n      <th></th>\n      <th>review_id</th>\n      <th>star_rating</th>\n      <th>helpful_votes</th>\n      <th>total_votes</th>\n      <th>vine</th>\n      <th>verified_purchase</th>\n    </tr>\n  </thead>\n  <tbody>\n    <tr>\n      <th>1954</th>\n      <td>R3N0XV9267NOXV</td>\n      <td>5</td>\n      <td>41</td>\n      <td>47</td>\n      <td>Y</td>\n      <td>N</td>\n    </tr>\n    <tr>\n      <th>5736</th>\n      <td>RSA6JQ346JZHZ</td>\n      <td>5</td>\n      <td>55</td>\n      <td>64</td>\n      <td>Y</td>\n      <td>Y</td>\n    </tr>\n    <tr>\n      <th>7385</th>\n      <td>R1FXF4HRMCLG4C</td>\n      <td>5</td>\n      <td>69</td>\n      <td>84</td>\n      <td>Y</td>\n      <td>N</td>\n    </tr>\n    <tr>\n      <th>7883</th>\n      <td>RCTBWC3II42MG</td>\n      <td>4</td>\n      <td>113</td>\n      <td>117</td>\n      <td>Y</td>\n      <td>N</td>\n    </tr>\n    <tr>\n      <th>24464</th>\n      <td>RTMQM2CQ1XIZ0</td>\n      <td>5</td>\n      <td>21</td>\n      <td>25</td>\n      <td>Y</td>\n      <td>N</td>\n    </tr>\n    <tr>\n      <th>...</th>\n      <td>...</td>\n      <td>...</td>\n      <td>...</td>\n      <td>...</td>\n      <td>...</td>\n      <td>...</td>\n    </tr>\n    <tr>\n      <th>1636787</th>\n      <td>RFFBMMET74TBB</td>\n      <td>5</td>\n      <td>27</td>\n      <td>30</td>\n      <td>Y</td>\n      <td>N</td>\n    </tr>\n    <tr>\n      <th>1637905</th>\n      <td>R19G60JWE86BRS</td>\n      <td>3</td>\n      <td>31</td>\n      <td>35</td>\n      <td>Y</td>\n      <td>N</td>\n    </tr>\n    <tr>\n      <th>1638433</th>\n      <td>R36L3YS2VNQUAB</td>\n      <td>4</td>\n      <td>163</td>\n      <td>175</td>\n      <td>Y</td>\n      <td>N</td>\n    </tr>\n    <tr>\n      <th>1639054</th>\n      <td>R1PSNB760HL99L</td>\n      <td>3</td>\n      <td>205</td>\n      <td>216</td>\n      <td>Y</td>\n      <td>N</td>\n    </tr>\n    <tr>\n      <th>1640162</th>\n      <td>R2W7EXQ1IVMI4D</td>\n      <td>4</td>\n      <td>46</td>\n      <td>54</td>\n      <td>Y</td>\n      <td>N</td>\n    </tr>\n  </tbody>\n</table>\n<p>463 rows × 6 columns</p>\n</div>"
     },
     "metadata": {},
     "execution_count": 114
    }
   ],
   "source": [
    "# retrieves all the rows where a review was written as part of the Vine program (paid)\n",
    "vine_paid = helpful_votes.loc[helpful_votes[\"vine\"] == \"Y\"]\n",
    "vine_paid"
   ]
  },
  {
   "cell_type": "code",
   "execution_count": 115,
   "metadata": {},
   "outputs": [
    {
     "output_type": "execute_result",
     "data": {
      "text/plain": [
       "              review_id  star_rating  helpful_votes  total_votes vine  \\\n",
       "591       ROI00QN8IS49I            5             83           91    N   \n",
       "1122     R13C5INE1RTZP6            2             26           26    N   \n",
       "1311      RXVMMXCL67MZN            4            378          383    N   \n",
       "1837     R33JJQWAUYBKD3            5            270          280    N   \n",
       "2056     R31HQD6YXSQV1W            3             40           48    N   \n",
       "...                 ...          ...            ...          ...  ...   \n",
       "1752918   RYN307NME6KX0            5             22           22    N   \n",
       "1752919  R1TOGWW745RP5X            5            109          110    N   \n",
       "1752922   RWZESJ0UGDQDG            4             34           34    N   \n",
       "1752925   RTEMVUI94ORI0            5             19           20    N   \n",
       "1752929  R35M9WTWVWMLX9            5             27           27    N   \n",
       "\n",
       "        verified_purchase  \n",
       "591                     N  \n",
       "1122                    Y  \n",
       "1311                    Y  \n",
       "1837                    Y  \n",
       "2056                    Y  \n",
       "...                   ...  \n",
       "1752918                 N  \n",
       "1752919                 N  \n",
       "1752922                 N  \n",
       "1752925                 N  \n",
       "1752929                 N  \n",
       "\n",
       "[25094 rows x 6 columns]"
      ],
      "text/html": "<div>\n<style scoped>\n    .dataframe tbody tr th:only-of-type {\n        vertical-align: middle;\n    }\n\n    .dataframe tbody tr th {\n        vertical-align: top;\n    }\n\n    .dataframe thead th {\n        text-align: right;\n    }\n</style>\n<table border=\"1\" class=\"dataframe\">\n  <thead>\n    <tr style=\"text-align: right;\">\n      <th></th>\n      <th>review_id</th>\n      <th>star_rating</th>\n      <th>helpful_votes</th>\n      <th>total_votes</th>\n      <th>vine</th>\n      <th>verified_purchase</th>\n    </tr>\n  </thead>\n  <tbody>\n    <tr>\n      <th>591</th>\n      <td>ROI00QN8IS49I</td>\n      <td>5</td>\n      <td>83</td>\n      <td>91</td>\n      <td>N</td>\n      <td>N</td>\n    </tr>\n    <tr>\n      <th>1122</th>\n      <td>R13C5INE1RTZP6</td>\n      <td>2</td>\n      <td>26</td>\n      <td>26</td>\n      <td>N</td>\n      <td>Y</td>\n    </tr>\n    <tr>\n      <th>1311</th>\n      <td>RXVMMXCL67MZN</td>\n      <td>4</td>\n      <td>378</td>\n      <td>383</td>\n      <td>N</td>\n      <td>Y</td>\n    </tr>\n    <tr>\n      <th>1837</th>\n      <td>R33JJQWAUYBKD3</td>\n      <td>5</td>\n      <td>270</td>\n      <td>280</td>\n      <td>N</td>\n      <td>Y</td>\n    </tr>\n    <tr>\n      <th>2056</th>\n      <td>R31HQD6YXSQV1W</td>\n      <td>3</td>\n      <td>40</td>\n      <td>48</td>\n      <td>N</td>\n      <td>Y</td>\n    </tr>\n    <tr>\n      <th>...</th>\n      <td>...</td>\n      <td>...</td>\n      <td>...</td>\n      <td>...</td>\n      <td>...</td>\n      <td>...</td>\n    </tr>\n    <tr>\n      <th>1752918</th>\n      <td>RYN307NME6KX0</td>\n      <td>5</td>\n      <td>22</td>\n      <td>22</td>\n      <td>N</td>\n      <td>N</td>\n    </tr>\n    <tr>\n      <th>1752919</th>\n      <td>R1TOGWW745RP5X</td>\n      <td>5</td>\n      <td>109</td>\n      <td>110</td>\n      <td>N</td>\n      <td>N</td>\n    </tr>\n    <tr>\n      <th>1752922</th>\n      <td>RWZESJ0UGDQDG</td>\n      <td>4</td>\n      <td>34</td>\n      <td>34</td>\n      <td>N</td>\n      <td>N</td>\n    </tr>\n    <tr>\n      <th>1752925</th>\n      <td>RTEMVUI94ORI0</td>\n      <td>5</td>\n      <td>19</td>\n      <td>20</td>\n      <td>N</td>\n      <td>N</td>\n    </tr>\n    <tr>\n      <th>1752929</th>\n      <td>R35M9WTWVWMLX9</td>\n      <td>5</td>\n      <td>27</td>\n      <td>27</td>\n      <td>N</td>\n      <td>N</td>\n    </tr>\n  </tbody>\n</table>\n<p>25094 rows × 6 columns</p>\n</div>"
     },
     "metadata": {},
     "execution_count": 115
    }
   ],
   "source": [
    "vine_unpaid = helpful_votes.loc[helpful_votes[\"vine\"] == \"N\"]\n",
    "vine_unpaid"
   ]
  },
  {
   "cell_type": "code",
   "execution_count": 116,
   "metadata": {},
   "outputs": [],
   "source": [
    "# Determine the total number of reviews, the number of 5-star reviews, and the percentage of 5-star reviews for the two types of review (paid vs unpaid).\n",
    "total_votes_paid = vine_paid['total_votes'].count()\n",
    "total_votes_unpaid = vine_unpaid['total_votes'].count()\n",
    "\n",
    "votes_5_star_paid = vine_paid.loc[vine_paid['star_rating'] == 5].count()['total_votes']\n",
    "votes_5_star_unpaid = vine_unpaid.loc[vine_unpaid['star_rating'] == 5].count()['total_votes']\n",
    "\n",
    "percentage_votes_paid = round(votes_5_star_paid/total_votes_paid * 100, 2)\n",
    "percentage_votes_unpaid = round(votes_5_star_unpaid/total_votes_unpaid * 100, 2)"
   ]
  },
  {
   "cell_type": "code",
   "execution_count": 117,
   "metadata": {},
   "outputs": [
    {
     "output_type": "execute_result",
     "data": {
      "text/plain": [
       "          number of reviews  5-star reviews  % 5-star reviews\n",
       "Vine                    463             202             43.63\n",
       "non-Vine              25094           12033             47.95"
      ],
      "text/html": "<div>\n<style scoped>\n    .dataframe tbody tr th:only-of-type {\n        vertical-align: middle;\n    }\n\n    .dataframe tbody tr th {\n        vertical-align: top;\n    }\n\n    .dataframe thead th {\n        text-align: right;\n    }\n</style>\n<table border=\"1\" class=\"dataframe\">\n  <thead>\n    <tr style=\"text-align: right;\">\n      <th></th>\n      <th>number of reviews</th>\n      <th>5-star reviews</th>\n      <th>% 5-star reviews</th>\n    </tr>\n  </thead>\n  <tbody>\n    <tr>\n      <th>Vine</th>\n      <td>463</td>\n      <td>202</td>\n      <td>43.63</td>\n    </tr>\n    <tr>\n      <th>non-Vine</th>\n      <td>25094</td>\n      <td>12033</td>\n      <td>47.95</td>\n    </tr>\n  </tbody>\n</table>\n</div>"
     },
     "metadata": {},
     "execution_count": 117
    }
   ],
   "source": [
    "summary = pd.DataFrame([{\n",
    "    \"number of reviews\": total_votes_paid,\n",
    "    \"5-star reviews\": votes_5_star_paid,\n",
    "    \"% 5-star reviews\": percentage_votes_paid\n",
    "},{\n",
    "    \"number of reviews\": total_votes_unpaid,\n",
    "    \"5-star reviews\": votes_5_star_unpaid,\n",
    "    \"% 5-star reviews\": percentage_votes_unpaid\n",
    "}\n",
    "],[\"Vine\", \"non-Vine\"])\n",
    "summary"
   ]
  },
  {
   "cell_type": "code",
   "execution_count": 118,
   "metadata": {},
   "outputs": [
    {
     "output_type": "execute_result",
     "data": {
      "text/plain": [
       "         number of reviews 5-star reviews  % 5-star reviews\n",
       "Vine                   463            202             43.63\n",
       "non-Vine            25,094         12,033             47.95"
      ],
      "text/html": "<div>\n<style scoped>\n    .dataframe tbody tr th:only-of-type {\n        vertical-align: middle;\n    }\n\n    .dataframe tbody tr th {\n        vertical-align: top;\n    }\n\n    .dataframe thead th {\n        text-align: right;\n    }\n</style>\n<table border=\"1\" class=\"dataframe\">\n  <thead>\n    <tr style=\"text-align: right;\">\n      <th></th>\n      <th>number of reviews</th>\n      <th>5-star reviews</th>\n      <th>% 5-star reviews</th>\n    </tr>\n  </thead>\n  <tbody>\n    <tr>\n      <th>Vine</th>\n      <td>463</td>\n      <td>202</td>\n      <td>43.63</td>\n    </tr>\n    <tr>\n      <th>non-Vine</th>\n      <td>25,094</td>\n      <td>12,033</td>\n      <td>47.95</td>\n    </tr>\n  </tbody>\n</table>\n</div>"
     },
     "metadata": {},
     "execution_count": 118
    }
   ],
   "source": [
    "# Format columns\n",
    "summary[\"number of reviews\"] = summary[\"number of reviews\"].map(\"{:,}\".format)\n",
    "summary[\"5-star reviews\"] = summary[\"5-star reviews\"].map(\"{:,}\".format)\n",
    "summary"
   ]
  },
  {
   "cell_type": "code",
   "execution_count": 119,
   "metadata": {},
   "outputs": [],
   "source": [
    "vine_reviews = helpful_votes[helpful_votes[\"vine\"] == \"Y\"].groupby('star_rating').count()[\"total_votes\"]"
   ]
  },
  {
   "cell_type": "code",
   "execution_count": 120,
   "metadata": {},
   "outputs": [],
   "source": [
    "non_vine_reviews = helpful_votes[helpful_votes[\"vine\"] == \"N\"].groupby('star_rating').count()[\"total_votes\"]"
   ]
  },
  {
   "cell_type": "code",
   "execution_count": 121,
   "metadata": {},
   "outputs": [
    {
     "output_type": "execute_result",
     "data": {
      "text/plain": [
       "star_rating     1     2     3     4      5\n",
       "vine           14    28    77   142    202\n",
       "non-vine     4462  1974  2678  3947  12033"
      ],
      "text/html": "<div>\n<style scoped>\n    .dataframe tbody tr th:only-of-type {\n        vertical-align: middle;\n    }\n\n    .dataframe tbody tr th {\n        vertical-align: top;\n    }\n\n    .dataframe thead th {\n        text-align: right;\n    }\n</style>\n<table border=\"1\" class=\"dataframe\">\n  <thead>\n    <tr style=\"text-align: right;\">\n      <th>star_rating</th>\n      <th>1</th>\n      <th>2</th>\n      <th>3</th>\n      <th>4</th>\n      <th>5</th>\n    </tr>\n  </thead>\n  <tbody>\n    <tr>\n      <th>vine</th>\n      <td>14</td>\n      <td>28</td>\n      <td>77</td>\n      <td>142</td>\n      <td>202</td>\n    </tr>\n    <tr>\n      <th>non-vine</th>\n      <td>4462</td>\n      <td>1974</td>\n      <td>2678</td>\n      <td>3947</td>\n      <td>12033</td>\n    </tr>\n  </tbody>\n</table>\n</div>"
     },
     "metadata": {},
     "execution_count": 121
    }
   ],
   "source": [
    "summary_all = pd.DataFrame([vine_reviews, non_vine_reviews],['vine', 'non-vine'])\n",
    "summary_all"
   ]
  },
  {
   "cell_type": "code",
   "execution_count": 122,
   "metadata": {},
   "outputs": [
    {
     "output_type": "execute_result",
     "data": {
      "text/plain": [
       "             vine  non-vine\n",
       "star_rating                \n",
       "1              14      4462\n",
       "2              28      1974\n",
       "3              77      2678\n",
       "4             142      3947\n",
       "5             202     12033"
      ],
      "text/html": "<div>\n<style scoped>\n    .dataframe tbody tr th:only-of-type {\n        vertical-align: middle;\n    }\n\n    .dataframe tbody tr th {\n        vertical-align: top;\n    }\n\n    .dataframe thead th {\n        text-align: right;\n    }\n</style>\n<table border=\"1\" class=\"dataframe\">\n  <thead>\n    <tr style=\"text-align: right;\">\n      <th></th>\n      <th>vine</th>\n      <th>non-vine</th>\n    </tr>\n    <tr>\n      <th>star_rating</th>\n      <th></th>\n      <th></th>\n    </tr>\n  </thead>\n  <tbody>\n    <tr>\n      <th>1</th>\n      <td>14</td>\n      <td>4462</td>\n    </tr>\n    <tr>\n      <th>2</th>\n      <td>28</td>\n      <td>1974</td>\n    </tr>\n    <tr>\n      <th>3</th>\n      <td>77</td>\n      <td>2678</td>\n    </tr>\n    <tr>\n      <th>4</th>\n      <td>142</td>\n      <td>3947</td>\n    </tr>\n    <tr>\n      <th>5</th>\n      <td>202</td>\n      <td>12033</td>\n    </tr>\n  </tbody>\n</table>\n</div>"
     },
     "metadata": {},
     "execution_count": 122
    }
   ],
   "source": [
    "summary_all = summary_all.transpose()\n",
    "summary_all"
   ]
  },
  {
   "cell_type": "code",
   "execution_count": 123,
   "metadata": {},
   "outputs": [],
   "source": [
    "summary_all[\"% vine\"] = round(summary_all['vine']/summary_all['vine'].sum() * 100, 2)\n",
    "summary_all[\"% non-vine\"] = round(summary_all['non-vine']/summary_all['non-vine'].sum() * 100, 2)\n",
    "summary_all['vine'] = summary_all['vine'].map(\"{:,}\".format)\n",
    "summary_all['non-vine'] = summary_all['non-vine'].map(\"{:,}\".format)"
   ]
  },
  {
   "cell_type": "code",
   "execution_count": 124,
   "metadata": {},
   "outputs": [
    {
     "output_type": "execute_result",
     "data": {
      "text/plain": [
       "            vine non-vine  % vine  % non-vine\n",
       "star_rating                                  \n",
       "1             14    4,462    3.02       17.78\n",
       "2             28    1,974    6.05        7.87\n",
       "3             77    2,678   16.63       10.67\n",
       "4            142    3,947   30.67       15.73\n",
       "5            202   12,033   43.63       47.95"
      ],
      "text/html": "<div>\n<style scoped>\n    .dataframe tbody tr th:only-of-type {\n        vertical-align: middle;\n    }\n\n    .dataframe tbody tr th {\n        vertical-align: top;\n    }\n\n    .dataframe thead th {\n        text-align: right;\n    }\n</style>\n<table border=\"1\" class=\"dataframe\">\n  <thead>\n    <tr style=\"text-align: right;\">\n      <th></th>\n      <th>vine</th>\n      <th>non-vine</th>\n      <th>% vine</th>\n      <th>% non-vine</th>\n    </tr>\n    <tr>\n      <th>star_rating</th>\n      <th></th>\n      <th></th>\n      <th></th>\n      <th></th>\n    </tr>\n  </thead>\n  <tbody>\n    <tr>\n      <th>1</th>\n      <td>14</td>\n      <td>4,462</td>\n      <td>3.02</td>\n      <td>17.78</td>\n    </tr>\n    <tr>\n      <th>2</th>\n      <td>28</td>\n      <td>1,974</td>\n      <td>6.05</td>\n      <td>7.87</td>\n    </tr>\n    <tr>\n      <th>3</th>\n      <td>77</td>\n      <td>2,678</td>\n      <td>16.63</td>\n      <td>10.67</td>\n    </tr>\n    <tr>\n      <th>4</th>\n      <td>142</td>\n      <td>3,947</td>\n      <td>30.67</td>\n      <td>15.73</td>\n    </tr>\n    <tr>\n      <th>5</th>\n      <td>202</td>\n      <td>12,033</td>\n      <td>43.63</td>\n      <td>47.95</td>\n    </tr>\n  </tbody>\n</table>\n</div>"
     },
     "metadata": {},
     "execution_count": 124
    }
   ],
   "source": [
    "summary_all"
   ]
  }
 ]
}